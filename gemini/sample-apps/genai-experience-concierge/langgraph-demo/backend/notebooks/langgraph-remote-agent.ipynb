{
  "cells": [
    {
      "cell_type": "code",
      "execution_count": 1,
      "metadata": {
        "id": "f705f4be70e9"
      },
      "outputs": [],
      "source": [
        "# Copyright 2025 Google LLC\n",
        "#\n",
        "# Licensed under the Apache License, Version 2.0 (the \"License\");\n",
        "# you may not use this file except in compliance with the License.\n",
        "# You may obtain a copy of the License at\n",
        "#\n",
        "#     https://www.apache.org/licenses/LICENSE-2.0\n",
        "#\n",
        "# Unless required by applicable law or agreed to in writing, software\n",
        "# distributed under the License is distributed on an \"AS IS\" BASIS,\n",
        "# WITHOUT WARRANTIES OR CONDITIONS OF ANY KIND, either express or implied.\n",
        "# See the License for the specific language governing permissions and\n",
        "# limitations under the License."
      ]
    },
    {
      "cell_type": "markdown",
      "metadata": {
        "id": "53d90692a4e0"
      },
      "source": [
        "# Query a Remote LangGraph Agent Server"
      ]
    },
    {
      "cell_type": "markdown",
      "metadata": {
        "id": "b2de76eacf15"
      },
      "source": [
        "<table align=\"left\">\n",
        "  <td style=\"text-align: center\">\n",
        "    <a href=\"https://colab.research.google.com/github/GoogleCloudPlatform/generative-ai/blob/main/gemini/sample-apps/genai-experience-concierge/langgraph-demo/backend/notebooks/langgraph-remote-agent.ipynb\">\n",
        "      <img width=\"32px\" src=\"https://www.gstatic.com/pantheon/images/bigquery/welcome_page/colab-logo.svg\" alt=\"Google Colaboratory logo\"><br> Open in Colab\n",
        "    </a>\n",
        "  </td>\n",
        "  <td style=\"text-align: center\">\n",
        "    <a href=\"https://console.cloud.google.com/vertex-ai/colab/import/https:%2F%2Fraw.githubusercontent.com%2FGoogleCloudPlatform%2Fgenerative-ai%2Fmain%2Fgemini%2Fsample-apps%2Fgenai-experience-concierge%2Flanggraph-demo%2Fbackend%2Fnotebooks%2Flanggraph-remote-agent.ipynb\">\n",
        "      <img width=\"32px\" src=\"https://lh3.googleusercontent.com/JmcxdQi-qOpctIvWKgPtrzZdJJK-J3sWE1RsfjZNwshCFgE_9fULcNpuXYTilIR2hjwN\" alt=\"Google Cloud Colab Enterprise logo\"><br> Open in Colab Enterprise\n",
        "    </a>\n",
        "  </td>\n",
        "  <td style=\"text-align: center\">\n",
        "    <a href=\"https://console.cloud.google.com/vertex-ai/workbench/deploy-notebook?download_url=https://raw.githubusercontent.com/GoogleCloudPlatform/generative-ai/main/gemini/sample-apps/genai-experience-concierge/langgraph-demo/backend/notebooks/langgraph-remote-agent.ipynb\">\n",
        "      <img src=\"https://www.gstatic.com/images/branding/gcpiconscolors/vertexai/v1/32px.svg\" alt=\"Vertex AI logo\"><br> Open in Vertex AI Workbench\n",
        "    </a>\n",
        "  </td>\n",
        "  <td style=\"text-align: center\">\n",
        "    <a href=\"https://github.com/GoogleCloudPlatform/generative-ai/blob/main/gemini/sample-apps/genai-experience-concierge/langgraph-demo/backend/notebooks/langgraph-remote-agent.ipynb\">\n",
        "      <img width=\"32px\" src=\"https://www.svgrepo.com/download/217753/github.svg\" alt=\"GitHub logo\"><br> View on GitHub\n",
        "    </a>\n",
        "  </td>\n",
        "</table>\n",
        "\n",
        "<div style=\"clear: both;\"></div>\n",
        "\n",
        "<b>Share to:</b>\n",
        "\n",
        "<a href=\"https://www.linkedin.com/sharing/share-offsite/?url=https%3A//github.com/GoogleCloudPlatform/generative-ai/blob/main/gemini/sample-apps/genai-experience-concierge/langgraph-demo/backend/notebooks/langgraph-remote-agent.ipynb\" target=\"_blank\">\n",
        "  <img width=\"20px\" src=\"https://upload.wikimedia.org/wikipedia/commons/8/81/LinkedIn_icon.svg\" alt=\"LinkedIn logo\">\n",
        "</a>\n",
        "\n",
        "<a href=\"https://bsky.app/intent/compose?text=https%3A//github.com/GoogleCloudPlatform/generative-ai/blob/main/gemini/sample-apps/genai-experience-concierge/langgraph-demo/backend/notebooks/langgraph-remote-agent.ipynb\" target=\"_blank\">\n",
        "  <img width=\"20px\" src=\"https://upload.wikimedia.org/wikipedia/commons/7/7a/Bluesky_Logo.svg\" alt=\"Bluesky logo\">\n",
        "</a>\n",
        "\n",
        "<a href=\"https://twitter.com/intent/tweet?url=https%3A//github.com/GoogleCloudPlatform/generative-ai/blob/main/gemini/sample-apps/genai-experience-concierge/langgraph-demo/backend/notebooks/langgraph-remote-agent.ipynb\" target=\"_blank\">\n",
        "  <img width=\"20px\" src=\"https://upload.wikimedia.org/wikipedia/commons/5/5a/X_icon_2.svg\" alt=\"X logo\">\n",
        "</a>\n",
        "\n",
        "<a href=\"https://reddit.com/submit?url=https%3A//github.com/GoogleCloudPlatform/generative-ai/blob/main/gemini/sample-apps/genai-experience-concierge/langgraph-demo/backend/notebooks/langgraph-remote-agent.ipynb\" target=\"_blank\">\n",
        "  <img width=\"20px\" src=\"https://redditinc.com/hubfs/Reddit%20Inc/Brand/Reddit_Logo.png\" alt=\"Reddit logo\">\n",
        "</a>\n",
        "\n",
        "<a href=\"https://www.facebook.com/sharer/sharer.php?u=https%3A//github.com/GoogleCloudPlatform/generative-ai/blob/main/gemini/sample-apps/genai-experience-concierge/langgraph-demo/backend/notebooks/langgraph-remote-agent.ipynb\" target=\"_blank\">\n",
        "  <img width=\"20px\" src=\"https://upload.wikimedia.org/wikipedia/commons/5/51/Facebook_f_logo_%282019%29.svg\" alt=\"Facebook logo\">\n",
        "</a>"
      ]
    },
    {
      "cell_type": "markdown",
      "metadata": {
        "id": "dbfe0a3c85ab"
      },
      "source": [
        "| | |\n",
        "|-|-|\n",
        "|Author(s) | [Pablo Gaeta](https://github.com/pablofgaeta) |"
      ]
    },
    {
      "cell_type": "markdown",
      "metadata": {
        "id": "213b97720d22"
      },
      "source": [
        "## Overview\n",
        "\n",
        "This notebook demonstrates example usage of a deployed agent using the standard LangGraph `RemoteGraph` client. The notebook can be configured to point to a locally running instance or a deployed server (e.g. on Cloud Run).\n",
        "\n",
        "Some test queries have been added for the basic `gemini` agent that will stream chunks of text. This interactive notebook might be useful for a frontend team developing a custom user interface for the agent.\n",
        "\n",
        "Feel free to add new cells and experiment with streaming outputs from the other agent implementations (Check out the [frontend code](../../frontend/concierge_ui/pages/) for inspiration)."
      ]
    },
    {
      "cell_type": "markdown",
      "metadata": {
        "id": "faca4bb1709f"
      },
      "source": [
        "## Import dependencies"
      ]
    },
    {
      "cell_type": "code",
      "execution_count": 1,
      "metadata": {
        "id": "de31a1f8d685"
      },
      "outputs": [],
      "source": [
        "import uuid\n",
        "\n",
        "from IPython import display as ipd\n",
        "from langgraph.pregel import remote"
      ]
    },
    {
      "cell_type": "markdown",
      "metadata": {
        "id": "2aafb7e2361d"
      },
      "source": [
        "## Configure notebook parameters\n",
        "\n",
        "By default, the notebook points to a local server at port 3000. Parameters for a remote deployed endpoint might look like:\n",
        "\n",
        "```python\n",
        "import subprocess\n",
        "\n",
        "agent_name = \"...\"\n",
        "agent_url = f\"https://concierge-XXXXXXXXXX-uc.a.run.app/{agent_name}\"\n",
        "id_token = subprocess.run(\n",
        "    [\"gcloud\", \"auth\", \"print-identity-token\"], capture_output=True, text=True\n",
        ").stdout.strip()\n",
        "```"
      ]
    },
    {
      "cell_type": "code",
      "execution_count": 6,
      "metadata": {
        "id": "8f40a8599f1a"
      },
      "outputs": [],
      "source": [
        "agent_name = \"gemini\"\n",
        "agent_url = f\"http://127.0.0.1:3000/{agent_name}\"\n",
        "id_token = None\n",
        "\n",
        "# Configure remote agent pointing to local development server\n",
        "graph = remote.RemoteGraph(\n",
        "    agent_name,\n",
        "    url=agent_url,\n",
        "    headers={\"Authorization\": f\"Bearer {id_token}\"} if id_token else {},\n",
        ")\n",
        "\n",
        "test_thread = f\"test-{uuid.uuid4().hex}\""
      ]
    },
    {
      "cell_type": "markdown",
      "metadata": {
        "id": "c0a2c49430cd"
      },
      "source": [
        "## Query the Remote Agent"
      ]
    },
    {
      "cell_type": "markdown",
      "metadata": {
        "id": "f40afe2a20a6"
      },
      "source": [
        "Display graph visualization"
      ]
    },
    {
      "cell_type": "code",
      "execution_count": 7,
      "metadata": {
        "id": "fce9b1a33b18"
      },
      "outputs": [
        {
          "data": {
            "image/png": "[encoded data removed]",
            "text/plain": [
              "<IPython.core.display.Image object>"
            ]
          },
          "execution_count": 7,
          "metadata": {},
          "output_type": "execute_result"
        }
      ],
      "source": [
        "ipd.Image(graph.get_graph().draw_mermaid_png())"
      ]
    },
    {
      "cell_type": "markdown",
      "metadata": {
        "id": "891e9cc7fbdc"
      },
      "source": [
        "Run a query in stream mode **_without_** custom stream writer. Streams node updates, not text stream."
      ]
    },
    {
      "cell_type": "code",
      "execution_count": 8,
      "metadata": {
        "id": "1d9948776a15"
      },
      "outputs": [
        {
          "name": "stdout",
          "output_type": "stream",
          "text": [
            "{'chat': {'current_turn': {'user_input': 'hi', 'response': 'Hi there! How can I help you today?', 'messages': [{'lc': 2, 'type': 'constructor', 'id': ['google', 'genai', 'types', 'Content'], 'method': [None, 'model_construct'], 'kwargs': {'parts': [{'video_metadata': None, 'thought': None, 'code_execution_result': None, 'executable_code': None, 'file_data': None, 'function_call': None, 'function_response': None, 'inline_data': None, 'text': 'hi'}], 'role': 'user'}}, {'lc': 2, 'type': 'constructor', 'id': ['google', 'genai', 'types', 'Content'], 'method': [None, 'model_construct'], 'kwargs': {'parts': [{'video_metadata': None, 'thought': None, 'code_execution_result': None, 'executable_code': None, 'file_data': None, 'function_call': None, 'function_response': None, 'inline_data': None, 'text': 'Hi'}], 'role': 'model'}}, {'lc': 2, 'type': 'constructor', 'id': ['google', 'genai', 'types', 'Content'], 'method': [None, 'model_construct'], 'kwargs': {'parts': [{'video_metadata': None, 'thought': None, 'code_execution_result': None, 'executable_code': None, 'file_data': None, 'function_call': None, 'function_response': None, 'inline_data': None, 'text': ' there! How can I help you today?\\n'}], 'role': 'model'}}]}}}\n",
            "{'save-turn': {'current_turn': None, 'turns': [{'user_input': 'hi', 'response': 'Hi there! How can I help you today?', 'messages': [{'lc': 2, 'type': 'constructor', 'id': ['google', 'genai', 'types', 'Content'], 'method': [None, 'model_construct'], 'kwargs': {'parts': [{'video_metadata': None, 'thought': None, 'code_execution_result': None, 'executable_code': None, 'file_data': None, 'function_call': None, 'function_response': None, 'inline_data': None, 'text': 'hi'}], 'role': 'user'}}, {'lc': 2, 'type': 'constructor', 'id': ['google', 'genai', 'types', 'Content'], 'method': [None, 'model_construct'], 'kwargs': {'parts': [{'video_metadata': None, 'thought': None, 'code_execution_result': None, 'executable_code': None, 'file_data': None, 'function_call': None, 'function_response': None, 'inline_data': None, 'text': 'Hi'}], 'role': 'model'}}, {'lc': 2, 'type': 'constructor', 'id': ['google', 'genai', 'types', 'Content'], 'method': [None, 'model_construct'], 'kwargs': {'parts': [{'video_metadata': None, 'thought': None, 'code_execution_result': None, 'executable_code': None, 'file_data': None, 'function_call': None, 'function_response': None, 'inline_data': None, 'text': ' there! How can I help you today?\\n'}], 'role': 'model'}}]}]}}\n"
          ]
        }
      ],
      "source": [
        "for chunk in graph.stream(\n",
        "    input={\"current_turn\": {\"user_input\": \"hi\"}},\n",
        "    config={\"configurable\": {\"thread_id\": test_thread}},\n",
        "    stream_mode=\"updates\",\n",
        "):\n",
        "    print(chunk)"
      ]
    },
    {
      "cell_type": "markdown",
      "metadata": {
        "id": "54d4addac10f"
      },
      "source": [
        "Run a query in stream mode **_with_** the custom stream writer mode. Streams text generated by Gemini to stdout."
      ]
    },
    {
      "cell_type": "code",
      "execution_count": 9,
      "metadata": {
        "id": "8a2312f5aed4"
      },
      "outputs": [
        {
          "data": {
            "text/markdown": [
              "Okay, to figure out what products Cymbal Retail sells, I need to do some research. I don't have real-time access to their inventory or a pre-existing list. Here's how I'll try to find out:\n",
              "\n",
              "1. **Search the web for \"Cymbal Retail products\":** This is the most direct approach.\n",
              "2. **Look for their website:** If I find a website, I can browse their product categories or search for specific items.\n",
              "3. **Search for news articles or press releases about Cymbal Retail:** These might mention key product lines or areas of focus.\n",
              "4. **Check social media:** Sometimes companies list products or promotions on their social media pages.\n",
              "\n",
              "I'll start searching now and let you know what I find.\n"
            ],
            "text/plain": [
              "<IPython.core.display.Markdown object>"
            ]
          },
          "metadata": {},
          "output_type": "display_data"
        }
      ],
      "source": [
        "response_text = \"\"\n",
        "for stream_mode, data in graph.stream(\n",
        "    input={\"current_turn\": {\"user_input\": \"what products does Cymbal Retail sell?\"}},\n",
        "    config={\"configurable\": {\"thread_id\": test_thread}},\n",
        "    stream_mode=[\"updates\", \"custom\"],\n",
        "):\n",
        "    if stream_mode == \"custom\":\n",
        "        assert isinstance(data, dict), \"Expected dictionary data\"\n",
        "        if \"text\" in data:\n",
        "            response_text += data[\"text\"]\n",
        "            display(ipd.Markdown(response_text), clear=True)\n",
        "        elif \"response\" in data:\n",
        "            response_text += data[\"response\"]\n",
        "            display(ipd.Markdown(response_text), clear=True)\n",
        "        else:\n",
        "            response_text += f\"Unhandled data: {set(data.keys())}\\n\\n---\\n\\n\"\n",
        "            display(ipd.Markdown(response_text), clear=True)"
      ]
    },
    {
      "cell_type": "markdown",
      "metadata": {
        "id": "6074e5469cef"
      },
      "source": [
        "Get a snapshot of the current session state"
      ]
    },
    {
      "cell_type": "code",
      "execution_count": 10,
      "metadata": {
        "id": "b95eab126376"
      },
      "outputs": [],
      "source": [
        "snapshot = graph.get_state(config={\"configurable\": {\"thread_id\": test_thread}})"
      ]
    },
    {
      "cell_type": "markdown",
      "metadata": {
        "id": "eac61b522743"
      },
      "source": [
        "Get history of session state snapshots"
      ]
    },
    {
      "cell_type": "code",
      "execution_count": 11,
      "metadata": {
        "id": "3556813902f5"
      },
      "outputs": [],
      "source": [
        "snapshot_list = list(\n",
        "    graph.get_state_history(config={\"configurable\": {\"thread_id\": test_thread}})\n",
        ")"
      ]
    }
  ],
  "metadata": {
    "colab": {
      "name": "langgraph-remote-agent.ipynb",
      "toc_visible": true
    },
    "kernelspec": {
      "display_name": "Python 3",
      "name": "python3"
    }
  },
  "nbformat": 4,
  "nbformat_minor": 0
}
